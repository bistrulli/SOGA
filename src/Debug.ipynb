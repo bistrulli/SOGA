{
 "cells": [
  {
   "cell_type": "code",
   "execution_count": 2,
   "id": "b83a33b1-54c7-4961-8185-b6435eeae1a5",
   "metadata": {},
   "outputs": [
    {
     "data": {
      "text/plain": [
       "(tensor(0.9738),\n",
       " Dist<['x', 'y'],pi: [tensor(1.)]  mu: [tensor([1.0605, 2.0454])] sigma: [tensor([[ 1.8825, -0.0882],\n",
       "         [-0.0882,  0.9339]])]>)"
      ]
     },
     "execution_count": 2,
     "metadata": {},
     "output_type": "execute_result"
    }
   ],
   "source": [
    "from libSOGAtruncate import *\n",
    "\n",
    "trunc = '2*x + 3*y > 0'\n",
    "var_list = ['x', 'y']\n",
    "data = {}\n",
    "\n",
    "dist = Dist(var_list, GaussianMix([torch.tensor(1.)], [torch.tensor([1., 2.])], [torch.tensor([[2.,0.],[0.,1.]])]))\n",
    "truncate(dist, trunc, data)\n"
   ]
  },
  {
   "cell_type": "code",
   "execution_count": null,
   "id": "28dbe88f-5d74-4b73-a8c1-3982aeb3677c",
   "metadata": {},
   "outputs": [],
   "source": []
  }
 ],
 "metadata": {
  "kernelspec": {
   "display_name": "Python 3 (ipykernel)",
   "language": "python",
   "name": "python3"
  },
  "language_info": {
   "codemirror_mode": {
    "name": "ipython",
    "version": 3
   },
   "file_extension": ".py",
   "mimetype": "text/x-python",
   "name": "python",
   "nbconvert_exporter": "python",
   "pygments_lexer": "ipython3",
   "version": "3.11.5"
  }
 },
 "nbformat": 4,
 "nbformat_minor": 5
}
