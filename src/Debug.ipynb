{
 "cells": [
  {
   "cell_type": "code",
   "execution_count": 5,
   "id": "afa5e2d3-2260-471c-adc0-83ca1a02a269",
   "metadata": {},
   "outputs": [
    {
     "data": {
      "text/plain": [
       "Dist<['x', 'y'],pi: [tensor(0.5000), tensor(0.5000)]  mu: [tensor([9., 2.]), tensor([15.,  2.])] sigma: [tensor([[54.,  3.],\n",
       "        [ 3.,  1.]]), tensor([[27.,  3.],\n",
       "        [ 3.,  1.]])]>"
      ]
     },
     "execution_count": 5,
     "metadata": {},
     "output_type": "execute_result"
    }
   ],
   "source": [
    "from libSOGAupdate import *\n",
    "from libSOGAshared import *\n",
    "from ASGMTListener import *\n",
    "from ASGMTParser import * \n",
    "from ASGMTLexer import *\n",
    "\n",
    "dist = Dist(['x', 'y'], GaussianMix([torch.tensor(1.)], [torch.tensor([1., 2.])], [torch.eye(2)]))\n",
    "expr = 'x = 3*x + 3*y + 6*gm([0.5, 0.5], [0.,1.], [1., 0.5])'\n",
    "data = {}\n",
    "\n",
    "update_rule(dist, expr, data)"
   ]
  },
  {
   "cell_type": "code",
   "execution_count": null,
   "id": "60189e51-8bcc-4380-9968-a8c9e9741d91",
   "metadata": {},
   "outputs": [],
   "source": []
  }
 ],
 "metadata": {
  "kernelspec": {
   "display_name": "Python 3 (ipykernel)",
   "language": "python",
   "name": "python3"
  },
  "language_info": {
   "codemirror_mode": {
    "name": "ipython",
    "version": 3
   },
   "file_extension": ".py",
   "mimetype": "text/x-python",
   "name": "python",
   "nbconvert_exporter": "python",
   "pygments_lexer": "ipython3",
   "version": "3.11.5"
  }
 },
 "nbformat": 4,
 "nbformat_minor": 5
}
